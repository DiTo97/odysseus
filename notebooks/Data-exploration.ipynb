{
 "cells": [
  {
   "cell_type": "code",
   "execution_count": 1,
   "id": "c9000b79",
   "metadata": {},
   "outputs": [],
   "source": [
    "import pandas as pd\n",
    "pd.set_option('display.max_columns', 500)\n",
    "\n",
    "import matplotlib.pyplot as plt"
   ]
  },
  {
   "cell_type": "code",
   "execution_count": 18,
   "id": "83a1be24",
   "metadata": {},
   "outputs": [],
   "source": [
    "data_dir = '/home/gianvito/Documents/GitHub/odysseus-escooter-dqn/odysseus/city_data_manager/data/Louisville/norm/trips/city_of_louisville'\n",
    "\n",
    "filenames = ['2019_7.csv', '2019_8.csv', '2019_9.csv']"
   ]
  },
  {
   "cell_type": "code",
   "execution_count": 26,
   "id": "618ce3ac",
   "metadata": {},
   "outputs": [
    {
     "name": "stdout",
     "output_type": "stream",
     "text": [
      "\n",
      "2019_7.csv\n",
      "Shape: 59304 x 24\n",
      "\n",
      "2019_8.csv\n",
      "Shape: 59605 x 24\n",
      "\n",
      "2019_9.csv\n",
      "Shape: 59109 x 24\n",
      "\n",
      "Data loaded successfully\n",
      "\n",
      "Shape: 178018 x 24\n"
     ]
    }
   ],
   "source": [
    "for idx, fn in enumerate(filenames):\n",
    "    \n",
    "    file_path = data_dir + '/' + fn\n",
    "    print()\n",
    "    print(fn)\n",
    "    \n",
    "    if idx == 0:\n",
    "        df = pd.read_csv(file_path)\n",
    "        print('Shape: {:d} x {:d}'.format(df.shape[0], df.shape[1]))\n",
    "        \n",
    "    else:\n",
    "        monthly_df = pd.read_csv(file_path)\n",
    "        df = df.append(monthly_df, ignore_index=True)\n",
    "        print('Shape: {:d} x {:d}'.format(monthly_df.shape[0], monthly_df.shape[1]))\n",
    "    \n",
    "\n",
    "print()\n",
    "print('Data loaded successfully\\n')\n",
    "print('Shape: {:d} x {:d}'.format(df.shape[0], df.shape[1]))"
   ]
  },
  {
   "cell_type": "code",
   "execution_count": 27,
   "id": "e404976e",
   "metadata": {},
   "outputs": [
    {
     "data": {
      "text/html": [
       "<div>\n",
       "<style scoped>\n",
       "    .dataframe tbody tr th:only-of-type {\n",
       "        vertical-align: middle;\n",
       "    }\n",
       "\n",
       "    .dataframe tbody tr th {\n",
       "        vertical-align: top;\n",
       "    }\n",
       "\n",
       "    .dataframe thead th {\n",
       "        text-align: right;\n",
       "    }\n",
       "</style>\n",
       "<table border=\"1\" class=\"dataframe\">\n",
       "  <thead>\n",
       "    <tr style=\"text-align: right;\">\n",
       "      <th></th>\n",
       "      <th>Unnamed: 0</th>\n",
       "      <th>start_time</th>\n",
       "      <th>end_time</th>\n",
       "      <th>duration</th>\n",
       "      <th>start_latitude</th>\n",
       "      <th>start_longitude</th>\n",
       "      <th>end_latitude</th>\n",
       "      <th>end_longitude</th>\n",
       "      <th>driving_distance</th>\n",
       "      <th>start_year</th>\n",
       "      <th>end_year</th>\n",
       "      <th>year</th>\n",
       "      <th>start_month</th>\n",
       "      <th>end_month</th>\n",
       "      <th>month</th>\n",
       "      <th>start_day</th>\n",
       "      <th>end_day</th>\n",
       "      <th>day</th>\n",
       "      <th>start_hour</th>\n",
       "      <th>end_hour</th>\n",
       "      <th>start_weekday</th>\n",
       "      <th>end_weekday</th>\n",
       "      <th>start_daytype</th>\n",
       "      <th>end_daytype</th>\n",
       "    </tr>\n",
       "  </thead>\n",
       "  <tbody>\n",
       "    <tr>\n",
       "      <th>0</th>\n",
       "      <td>146991</td>\n",
       "      <td>2019-07-01 00:00:00-04:00</td>\n",
       "      <td>2019-07-02 00:00:00-04:00</td>\n",
       "      <td>540.0</td>\n",
       "      <td>38.255</td>\n",
       "      <td>-85.752</td>\n",
       "      <td>38.252</td>\n",
       "      <td>-85.754</td>\n",
       "      <td>1999.987</td>\n",
       "      <td>2019</td>\n",
       "      <td>2019</td>\n",
       "      <td>2019</td>\n",
       "      <td>7</td>\n",
       "      <td>7</td>\n",
       "      <td>7</td>\n",
       "      <td>1</td>\n",
       "      <td>2</td>\n",
       "      <td>1</td>\n",
       "      <td>0</td>\n",
       "      <td>0</td>\n",
       "      <td>Mon</td>\n",
       "      <td>Tue</td>\n",
       "      <td>weekday</td>\n",
       "      <td>weekday</td>\n",
       "    </tr>\n",
       "    <tr>\n",
       "      <th>1</th>\n",
       "      <td>120485</td>\n",
       "      <td>2019-07-01 00:00:00-04:00</td>\n",
       "      <td>2019-07-02 00:00:00-04:00</td>\n",
       "      <td>360.0</td>\n",
       "      <td>38.242</td>\n",
       "      <td>-85.726</td>\n",
       "      <td>38.242</td>\n",
       "      <td>-85.726</td>\n",
       "      <td>0.000</td>\n",
       "      <td>2019</td>\n",
       "      <td>2019</td>\n",
       "      <td>2019</td>\n",
       "      <td>7</td>\n",
       "      <td>7</td>\n",
       "      <td>7</td>\n",
       "      <td>1</td>\n",
       "      <td>2</td>\n",
       "      <td>1</td>\n",
       "      <td>0</td>\n",
       "      <td>0</td>\n",
       "      <td>Mon</td>\n",
       "      <td>Tue</td>\n",
       "      <td>weekday</td>\n",
       "      <td>weekday</td>\n",
       "    </tr>\n",
       "    <tr>\n",
       "      <th>2</th>\n",
       "      <td>465004</td>\n",
       "      <td>2019-07-01 00:00:00-04:00</td>\n",
       "      <td>2019-07-01 00:00:00-04:00</td>\n",
       "      <td>300.0</td>\n",
       "      <td>38.242</td>\n",
       "      <td>-85.726</td>\n",
       "      <td>38.253</td>\n",
       "      <td>-85.738</td>\n",
       "      <td>0.000</td>\n",
       "      <td>2019</td>\n",
       "      <td>2019</td>\n",
       "      <td>2019</td>\n",
       "      <td>7</td>\n",
       "      <td>7</td>\n",
       "      <td>7</td>\n",
       "      <td>1</td>\n",
       "      <td>1</td>\n",
       "      <td>1</td>\n",
       "      <td>0</td>\n",
       "      <td>0</td>\n",
       "      <td>Mon</td>\n",
       "      <td>Mon</td>\n",
       "      <td>weekday</td>\n",
       "      <td>weekday</td>\n",
       "    </tr>\n",
       "    <tr>\n",
       "      <th>3</th>\n",
       "      <td>469743</td>\n",
       "      <td>2019-07-01 00:00:00-04:00</td>\n",
       "      <td>2019-07-02 00:00:00-04:00</td>\n",
       "      <td>180.0</td>\n",
       "      <td>38.252</td>\n",
       "      <td>-85.754</td>\n",
       "      <td>38.252</td>\n",
       "      <td>-85.754</td>\n",
       "      <td>0.000</td>\n",
       "      <td>2019</td>\n",
       "      <td>2019</td>\n",
       "      <td>2019</td>\n",
       "      <td>7</td>\n",
       "      <td>7</td>\n",
       "      <td>7</td>\n",
       "      <td>1</td>\n",
       "      <td>2</td>\n",
       "      <td>1</td>\n",
       "      <td>0</td>\n",
       "      <td>0</td>\n",
       "      <td>Mon</td>\n",
       "      <td>Tue</td>\n",
       "      <td>weekday</td>\n",
       "      <td>weekday</td>\n",
       "    </tr>\n",
       "    <tr>\n",
       "      <th>4</th>\n",
       "      <td>41172</td>\n",
       "      <td>2019-07-01 00:15:00-04:00</td>\n",
       "      <td>2019-07-01 00:30:00-04:00</td>\n",
       "      <td>720.0</td>\n",
       "      <td>38.252</td>\n",
       "      <td>-85.737</td>\n",
       "      <td>38.249</td>\n",
       "      <td>-85.759</td>\n",
       "      <td>1866.440</td>\n",
       "      <td>2019</td>\n",
       "      <td>2019</td>\n",
       "      <td>2019</td>\n",
       "      <td>7</td>\n",
       "      <td>7</td>\n",
       "      <td>7</td>\n",
       "      <td>1</td>\n",
       "      <td>1</td>\n",
       "      <td>1</td>\n",
       "      <td>0</td>\n",
       "      <td>0</td>\n",
       "      <td>Mon</td>\n",
       "      <td>Mon</td>\n",
       "      <td>weekday</td>\n",
       "      <td>weekday</td>\n",
       "    </tr>\n",
       "  </tbody>\n",
       "</table>\n",
       "</div>"
      ],
      "text/plain": [
       "   Unnamed: 0                 start_time                   end_time  duration  \\\n",
       "0      146991  2019-07-01 00:00:00-04:00  2019-07-02 00:00:00-04:00     540.0   \n",
       "1      120485  2019-07-01 00:00:00-04:00  2019-07-02 00:00:00-04:00     360.0   \n",
       "2      465004  2019-07-01 00:00:00-04:00  2019-07-01 00:00:00-04:00     300.0   \n",
       "3      469743  2019-07-01 00:00:00-04:00  2019-07-02 00:00:00-04:00     180.0   \n",
       "4       41172  2019-07-01 00:15:00-04:00  2019-07-01 00:30:00-04:00     720.0   \n",
       "\n",
       "   start_latitude  start_longitude  end_latitude  end_longitude  \\\n",
       "0          38.255          -85.752        38.252        -85.754   \n",
       "1          38.242          -85.726        38.242        -85.726   \n",
       "2          38.242          -85.726        38.253        -85.738   \n",
       "3          38.252          -85.754        38.252        -85.754   \n",
       "4          38.252          -85.737        38.249        -85.759   \n",
       "\n",
       "   driving_distance  start_year  end_year  year  start_month  end_month  \\\n",
       "0          1999.987        2019      2019  2019            7          7   \n",
       "1             0.000        2019      2019  2019            7          7   \n",
       "2             0.000        2019      2019  2019            7          7   \n",
       "3             0.000        2019      2019  2019            7          7   \n",
       "4          1866.440        2019      2019  2019            7          7   \n",
       "\n",
       "   month  start_day  end_day  day  start_hour  end_hour start_weekday  \\\n",
       "0      7          1        2    1           0         0           Mon   \n",
       "1      7          1        2    1           0         0           Mon   \n",
       "2      7          1        1    1           0         0           Mon   \n",
       "3      7          1        2    1           0         0           Mon   \n",
       "4      7          1        1    1           0         0           Mon   \n",
       "\n",
       "  end_weekday start_daytype end_daytype  \n",
       "0         Tue       weekday     weekday  \n",
       "1         Tue       weekday     weekday  \n",
       "2         Mon       weekday     weekday  \n",
       "3         Tue       weekday     weekday  \n",
       "4         Mon       weekday     weekday  "
      ]
     },
     "execution_count": 27,
     "metadata": {},
     "output_type": "execute_result"
    }
   ],
   "source": [
    "df.head()"
   ]
  },
  {
   "cell_type": "code",
   "execution_count": 30,
   "id": "12aec03e",
   "metadata": {},
   "outputs": [
    {
     "data": {
      "text/html": [
       "<div>\n",
       "<style scoped>\n",
       "    .dataframe tbody tr th:only-of-type {\n",
       "        vertical-align: middle;\n",
       "    }\n",
       "\n",
       "    .dataframe tbody tr th {\n",
       "        vertical-align: top;\n",
       "    }\n",
       "\n",
       "    .dataframe thead th {\n",
       "        text-align: right;\n",
       "    }\n",
       "</style>\n",
       "<table border=\"1\" class=\"dataframe\">\n",
       "  <thead>\n",
       "    <tr style=\"text-align: right;\">\n",
       "      <th></th>\n",
       "      <th>month</th>\n",
       "      <th>day</th>\n",
       "      <th>num_daily_trips</th>\n",
       "    </tr>\n",
       "  </thead>\n",
       "  <tbody>\n",
       "    <tr>\n",
       "      <th>0</th>\n",
       "      <td>7</td>\n",
       "      <td>1</td>\n",
       "      <td>1082</td>\n",
       "    </tr>\n",
       "    <tr>\n",
       "      <th>1</th>\n",
       "      <td>7</td>\n",
       "      <td>2</td>\n",
       "      <td>1303</td>\n",
       "    </tr>\n",
       "    <tr>\n",
       "      <th>2</th>\n",
       "      <td>7</td>\n",
       "      <td>3</td>\n",
       "      <td>1530</td>\n",
       "    </tr>\n",
       "    <tr>\n",
       "      <th>3</th>\n",
       "      <td>7</td>\n",
       "      <td>4</td>\n",
       "      <td>2783</td>\n",
       "    </tr>\n",
       "    <tr>\n",
       "      <th>4</th>\n",
       "      <td>7</td>\n",
       "      <td>5</td>\n",
       "      <td>2324</td>\n",
       "    </tr>\n",
       "    <tr>\n",
       "      <th>...</th>\n",
       "      <td>...</td>\n",
       "      <td>...</td>\n",
       "      <td>...</td>\n",
       "    </tr>\n",
       "    <tr>\n",
       "      <th>87</th>\n",
       "      <td>9</td>\n",
       "      <td>26</td>\n",
       "      <td>1830</td>\n",
       "    </tr>\n",
       "    <tr>\n",
       "      <th>88</th>\n",
       "      <td>9</td>\n",
       "      <td>27</td>\n",
       "      <td>2272</td>\n",
       "    </tr>\n",
       "    <tr>\n",
       "      <th>89</th>\n",
       "      <td>9</td>\n",
       "      <td>28</td>\n",
       "      <td>2679</td>\n",
       "    </tr>\n",
       "    <tr>\n",
       "      <th>90</th>\n",
       "      <td>9</td>\n",
       "      <td>29</td>\n",
       "      <td>1646</td>\n",
       "    </tr>\n",
       "    <tr>\n",
       "      <th>91</th>\n",
       "      <td>9</td>\n",
       "      <td>30</td>\n",
       "      <td>1633</td>\n",
       "    </tr>\n",
       "  </tbody>\n",
       "</table>\n",
       "<p>92 rows × 3 columns</p>\n",
       "</div>"
      ],
      "text/plain": [
       "    month  day  num_daily_trips\n",
       "0       7    1             1082\n",
       "1       7    2             1303\n",
       "2       7    3             1530\n",
       "3       7    4             2783\n",
       "4       7    5             2324\n",
       "..    ...  ...              ...\n",
       "87      9   26             1830\n",
       "88      9   27             2272\n",
       "89      9   28             2679\n",
       "90      9   29             1646\n",
       "91      9   30             1633\n",
       "\n",
       "[92 rows x 3 columns]"
      ]
     },
     "execution_count": 30,
     "metadata": {},
     "output_type": "execute_result"
    }
   ],
   "source": [
    "daily_trips_df = df.groupby(['month', 'day']).agg(num_daily_trips=('start_time','count')).reset_index()\n",
    "daily_trips_df"
   ]
  },
  {
   "cell_type": "code",
   "execution_count": 34,
   "id": "36c4e10f",
   "metadata": {},
   "outputs": [],
   "source": [
    "# Helper function to plot DFs\n",
    "def plot_DF(X, Y, title=\"\", xlabel='Date', ylabel='Number of Accepted offers', dpi=100):\n",
    "    plt.figure(figsize=(16,3), dpi=dpi)\n",
    "    plt.plot(X, Y, color='tab:blue')\n",
    "    \n",
    "    plt.title(title, fontsize=12)\n",
    "    \n",
    "    plt.xlabel(xlabel, fontsize=10)\n",
    "    plt.ylabel(ylabel, fontsize=10)\n",
    "    \n",
    "    plt.show() "
   ]
  },
  {
   "cell_type": "code",
   "execution_count": 35,
   "id": "f1762a1f",
   "metadata": {},
   "outputs": [
    {
     "data": {
      "image/png": "[encoded data removed]",
      "text/plain": [
       "<Figure size 1600x300 with 1 Axes>"
      ]
     },
     "metadata": {
      "needs_background": "light"
     },
     "output_type": "display_data"
    }
   ],
   "source": [
    "# Plot the target variable of the selected time-series\n",
    "plot_DF(X=daily_trips_df.index, Y=daily_trips_df.num_daily_trips, title='Number of daily trips')"
   ]
  },
  {
   "cell_type": "markdown",
   "id": "12f6a3ac",
   "metadata": {},
   "source": [
    "## Pickle"
   ]
  },
  {
   "cell_type": "code",
   "execution_count": 35,
   "id": "9460a6b8",
   "metadata": {},
   "outputs": [],
   "source": [
    "import pickle\n",
    "import pandas as pd\n",
    "pd.set_option('display.max_columns', 500)\n",
    "import os\n",
    "import numpy as np"
   ]
  },
  {
   "cell_type": "code",
   "execution_count": 5,
   "id": "c8d962e8",
   "metadata": {},
   "outputs": [],
   "source": [
    "demand_model_path = '/home/gianvito/Documents/GitHub/odysseus-escooter-dqn/odysseus/demand_modelling/demand_models/Louisville'"
   ]
  },
  {
   "cell_type": "code",
   "execution_count": 6,
   "id": "9ecd6690",
   "metadata": {},
   "outputs": [],
   "source": [
    "avg_out_flows_train = pickle.Unpickler(open(os.path.join(demand_model_path, \"avg_out_flows_train.pickle\"), \"rb\")).load()\n",
    "avg_in_flows_train = pickle.Unpickler(open(os.path.join(demand_model_path, \"avg_in_flows_train.pickle\"), \"rb\")).load()"
   ]
  },
  {
   "cell_type": "code",
   "execution_count": 39,
   "id": "473daa36",
   "metadata": {},
   "outputs": [
    {
     "ename": "KeyError",
     "evalue": "89.0",
     "output_type": "error",
     "traceback": [
      "\u001b[0;31m---------------------------------------------------------------------------\u001b[0m",
      "\u001b[0;31mKeyError\u001b[0m                                  Traceback (most recent call last)",
      "\u001b[0;32m<ipython-input-39-6b75f1310318>\u001b[0m in \u001b[0;36m<module>\u001b[0;34m\u001b[0m\n\u001b[1;32m     32\u001b[0m     \u001b[0;32mfor\u001b[0m \u001b[0mzone_id\u001b[0m \u001b[0;32min\u001b[0m \u001b[0mzone_list\u001b[0m\u001b[0;34m:\u001b[0m\u001b[0;34m\u001b[0m\u001b[0;34m\u001b[0m\u001b[0m\n\u001b[1;32m     33\u001b[0m \u001b[0;34m\u001b[0m\u001b[0m\n\u001b[0;32m---> 34\u001b[0;31m         \u001b[0mout_flows_perzone\u001b[0m\u001b[0;34m[\u001b[0m\u001b[0mdaytype\u001b[0m\u001b[0;34m]\u001b[0m\u001b[0;34m[\u001b[0m\u001b[0mzone_id\u001b[0m\u001b[0;34m]\u001b[0m \u001b[0;34m=\u001b[0m \u001b[0mnp\u001b[0m\u001b[0;34m.\u001b[0m\u001b[0mmean\u001b[0m\u001b[0;34m(\u001b[0m\u001b[0mnp\u001b[0m\u001b[0;34m.\u001b[0m\u001b[0marray\u001b[0m\u001b[0;34m(\u001b[0m\u001b[0mout_flows_perzone\u001b[0m\u001b[0;34m[\u001b[0m\u001b[0mzone_id\u001b[0m\u001b[0;34m]\u001b[0m\u001b[0;34m)\u001b[0m\u001b[0;34m)\u001b[0m\u001b[0;34m\u001b[0m\u001b[0;34m\u001b[0m\u001b[0m\n\u001b[0m\u001b[1;32m     35\u001b[0m         \u001b[0min_flows_perzone\u001b[0m\u001b[0;34m[\u001b[0m\u001b[0mdaytype\u001b[0m\u001b[0;34m]\u001b[0m\u001b[0;34m[\u001b[0m\u001b[0mzone_id\u001b[0m\u001b[0;34m]\u001b[0m \u001b[0;34m=\u001b[0m \u001b[0mnp\u001b[0m\u001b[0;34m.\u001b[0m\u001b[0mmean\u001b[0m\u001b[0;34m(\u001b[0m\u001b[0mnp\u001b[0m\u001b[0;34m.\u001b[0m\u001b[0marray\u001b[0m\u001b[0;34m(\u001b[0m\u001b[0mout_flows_perzone\u001b[0m\u001b[0;34m[\u001b[0m\u001b[0mzone_id\u001b[0m\u001b[0;34m]\u001b[0m\u001b[0;34m)\u001b[0m\u001b[0;34m)\u001b[0m\u001b[0;34m\u001b[0m\u001b[0;34m\u001b[0m\u001b[0m\n",
      "\u001b[0;31mKeyError\u001b[0m: 89.0"
     ]
    }
   ],
   "source": [
    "zone_list = avg_out_flows_train['weekend'][0].keys()\n",
    "tot_zones = len(zone_list)\n",
    "\n",
    "\n",
    "fucked_zone_id = []\n",
    "\n",
    "out_flows_perzone = {'weekday' : {},\n",
    "                     'weekend' : {}}\n",
    "\n",
    "in_flows_perzone = {'weekday' : {},\n",
    "                    'weekend' : {}}\n",
    "\n",
    "for daytype in ['weekday', 'weekend']:\n",
    "    \n",
    "    blacklist = []\n",
    "    \n",
    "    # Init empty list for each zone_id\n",
    "    for zone_id in zone_list:\n",
    "\n",
    "        out_flows_perzone[daytype][zone_id] = []\n",
    "        in_flows_perzone[daytype][zone_id] = []\n",
    "    \n",
    "    # Collect from dict and append to list\n",
    "    for hour in range(24):\n",
    "        \n",
    "        for zone_id in avg_out_flows_train[daytype][hour].keys():\n",
    "        \n",
    "            out_flows_perzone[daytype][zone_id].append(avg_out_flows_train[daytype][hour][zone_id])\n",
    "            in_flows_perzone[daytype][zone_id].append(avg_in_flows_train[daytype][hour][zone_id])\n",
    "    \n",
    "    \n",
    "    for zone_id in zone_list:\n",
    "    \n",
    "        out_flows_perzone[daytype][zone_id] = np.mean(np.array(out_flows_perzone[zone_id]))\n",
    "        in_flows_perzone[daytype][zone_id] = np.mean(np.array(out_flows_perzone[zone_id]))"
   ]
  },
  {
   "cell_type": "code",
   "execution_count": 36,
   "id": "7a675fee",
   "metadata": {},
   "outputs": [
    {
     "data": {
      "text/plain": [
       "2.0"
      ]
     },
     "execution_count": 36,
     "metadata": {},
     "output_type": "execute_result"
    }
   ],
   "source": [
    "np.mean(np.array([1, 2, 3]))"
   ]
  },
  {
   "cell_type": "code",
   "execution_count": 41,
   "id": "677b4edc",
   "metadata": {},
   "outputs": [
    {
     "name": "stdout",
     "output_type": "stream",
     "text": [
      "395\n",
      "395\n",
      "395\n",
      "395\n",
      "395\n",
      "395\n",
      "395\n",
      "395\n",
      "395\n",
      "395\n",
      "395\n",
      "395\n",
      "395\n",
      "395\n",
      "395\n",
      "395\n",
      "395\n",
      "395\n",
      "395\n",
      "395\n",
      "395\n",
      "395\n",
      "395\n",
      "395\n",
      "395\n",
      "395\n",
      "395\n",
      "395\n",
      "395\n",
      "395\n",
      "395\n",
      "395\n",
      "395\n",
      "395\n",
      "395\n",
      "395\n",
      "395\n",
      "395\n",
      "395\n",
      "395\n",
      "395\n",
      "395\n",
      "395\n",
      "395\n",
      "395\n",
      "395\n",
      "395\n",
      "395\n"
     ]
    }
   ],
   "source": [
    "for daytype in ['weekday', 'weekend']:\n",
    "    \n",
    "    for hour in range(24):\n",
    "        \n",
    "        print(len(avg_in_flows_train[daytype][hour].keys()))"
   ]
  },
  {
   "cell_type": "markdown",
   "id": "28df3afe",
   "metadata": {},
   "source": [
    "# Invalid action probability\n",
    "\n",
    "Estimate the probability of invalid action for both Rainbow agents on ODySSEUS, as a proxy of the amount of life loss experienced in the early training stages, wherein Q-learning agents tend to favour $\\epsilon$-greedy uniform sampling as the policy $\\pi$ to select actions.\n",
    "\n",
    "Let $a_t = (a_{t, P}, a_{t, D})$ be the generic action for ODySSEUS taken at time $t$, defined as the resultling combination of the action picked by the pick-up (P) agent, $a_{t, P}$, and the action picked by the drop-off (D) agent, $a_{t, D}$. A generic action is considered invalid if:\n",
    "\n",
    "- A) Either zone corresponding to $a_{t, P}$ or $a_{t, D}$ is invalid: $z_{t, P} \\notin Z \\cup z_{t, D} \\notin Z$, with $Z$ the set of valid zones of a given city.\n",
    "\n",
    "- B) The zones corresponding to $a_{t, P}$ and $a_{t, D}$ are equal: $z_{t, P} = z_{t, D}$\n",
    "\n",
    "- C) The zones corresponding to $a_{t, P}$ and $a_{t, D}$ are equal to the original zone of opposite type: $z_{t, P} = \\hat{z}_{t, D} \\cup z_{t, D} = \\hat{z}_{t, P}$\n",
    "\n",
    "- D) The original zones $\\hat{z}_{t, P}$ and $\\hat{z}_{t, D}$ sono uguali: $\\hat{z}_{t, P} = \\hat{z}_{t, D}$\n",
    "\n",
    "- E) The suggested pick-up zone does not have a suitable vehicle ready: $V_{\\text{avail}, P} = \\emptyset$\n",
    "\n",
    "Assuming each of these contributions can be reformulated as close-form probabilities, we shall compute the overall probabiliy of invalid action, $p(a_{inv})$ on any given step within the simulation on ODySSEUS. Known $p(a_{inv})$, we are able to compute the winning probability on ODySSEUS with at least one life left, $p(n_l >= 1)$ given the total number of lives when starting the game $N_l$ over a given range of training steps, $N_{steps}$.\n",
    "\n",
    "Eventually, fixed a target value for $p(n_l >= 1) = \\tau$, we can compute the optimal total number of lives $\\hat{N}_{l, \\tau}$."
   ]
  },
  {
   "cell_type": "code",
   "execution_count": 1,
   "id": "d4ba44d0",
   "metadata": {},
   "outputs": [],
   "source": [
    "import pandas as pd\n",
    "import pickle5 as pickle\n",
    "import os\n",
    "import typing as t\n",
    "\n",
    "from scipy.stats import binom"
   ]
  },
  {
   "cell_type": "markdown",
   "id": "4e237c29",
   "metadata": {},
   "source": [
    "Load the demand model for a given city over a full year of trips"
   ]
  },
  {
   "cell_type": "code",
   "execution_count": 2,
   "id": "2b75ab88",
   "metadata": {},
   "outputs": [],
   "source": [
    "METADATA = {\n",
    "    'City': 'Louisville',\n",
    "    'N_steps': int(1.3e3),\n",
    "    'b': 200\n",
    "}"
   ]
  },
  {
   "cell_type": "code",
   "execution_count": 3,
   "id": "c41d7dd3",
   "metadata": {},
   "outputs": [],
   "source": [
    "demand_model_dirpath = ('/home/DiTo/odysseus-escooter-dqn/odysseus/'\n",
    "                        'demand_modelling/demand_models/') + METADATA['City'] \\\n",
    "                     + ('' if METADATA['b'] == 200 else '-' + str(METADATA['b']))"
   ]
  },
  {
   "cell_type": "code",
   "execution_count": 4,
   "id": "5dbeb963",
   "metadata": {},
   "outputs": [],
   "source": [
    "df_bookings = pd.read_csv(demand_model_dirpath\n",
    "                          + '/bookings_train.csv')"
   ]
  },
  {
   "cell_type": "code",
   "execution_count": 5,
   "id": "20cb2815",
   "metadata": {},
   "outputs": [
    {
     "data": {
      "text/plain": [
       "array(['Unnamed: 0', 'start_time', 'end_time', 'duration',\n",
       "       'start_latitude', 'start_longitude', 'end_latitude',\n",
       "       'end_longitude', 'driving_distance', 'start_year', 'end_year',\n",
       "       'year', 'start_month', 'end_month', 'month', 'start_day',\n",
       "       'end_day', 'day', 'start_hour', 'end_hour', 'start_weekday',\n",
       "       'end_weekday', 'start_daytype', 'end_daytype', 'geometry', 'date',\n",
       "       'daytype', 'city', 'euclidean_distance', 'hour',\n",
       "       'random_seconds_start', 'random_seconds_end', 'random_seconds_pos',\n",
       "       'ia_timeout', 'avg_speed', 'avg_speed_kmh', 'origin_id',\n",
       "       'destination_id', 'origin_i', 'origin_j', 'destination_i',\n",
       "       'destination_j'], dtype=object)"
      ]
     },
     "execution_count": 5,
     "metadata": {},
     "output_type": "execute_result"
    }
   ],
   "source": [
    "df_bookings.columns.values"
   ]
  },
  {
   "cell_type": "markdown",
   "id": "7b78c73a",
   "metadata": {},
   "source": [
    "A) Find the probability of invalid zones across both Rainbow agents draws:"
   ]
  },
  {
   "cell_type": "code",
   "execution_count": 6,
   "id": "3c3c56f7",
   "metadata": {},
   "outputs": [],
   "source": [
    "# Count NaN ratio in neighbors DF\n",
    "with open(os.path.join(demand_model_dirpath,\n",
    "                       \"neighbors_dict.pickle\"),\n",
    "          \"rb\") as f:\n",
    "    N = pickle.load(f)\n",
    "\n",
    "    pct_N_nan = N.isna().sum().sum() \\\n",
    "              * 1.0 / N.size"
   ]
  },
  {
   "cell_type": "code",
   "execution_count": 7,
   "id": "24585011",
   "metadata": {},
   "outputs": [
    {
     "data": {
      "text/plain": [
       "0.3467741935483871"
      ]
     },
     "execution_count": 7,
     "metadata": {},
     "output_type": "execute_result"
    }
   ],
   "source": [
    "pct_N_nan"
   ]
  },
  {
   "cell_type": "code",
   "execution_count": 8,
   "id": "65817481",
   "metadata": {},
   "outputs": [
    {
     "data": {
      "text/plain": [
       "0.57329604578564"
      ]
     },
     "execution_count": 8,
     "metadata": {},
     "output_type": "execute_result"
    }
   ],
   "source": [
    "pct_A = binom.pmf(1, 2, pct_N_nan) \\\n",
    "      + binom.pmf(2, 2, pct_N_nan)\n",
    "\n",
    "pct_A"
   ]
  },
  {
   "cell_type": "markdown",
   "id": "17624148",
   "metadata": {},
   "source": [
    "B) Find the probability of both zones suggested by the Rainbow agents being equal:\n",
    "\n",
    "First of all, we have to find the probability of two zones (partially) sharing their 1-hop neighborhood: Let $b$ the side length of all square zones in the operative area, then we are looking for the probability $d(i, j) \\leq 2 \\sqrt 2 b = 2^{1.5} b$, with $d(i, j)$ being the trip's Euclidean distance between zone $i$ and zone $j$."
   ]
  },
  {
   "cell_type": "code",
   "execution_count": 9,
   "id": "31996d1f",
   "metadata": {},
   "outputs": [],
   "source": [
    "num_bookings_2_hop = (df_bookings['euclidean_distance'] \n",
    "                      <= (2**1.5)*METADATA['b']).sum()\n",
    "\n",
    "num_bookings_tot   = df_bookings['euclidean_distance'].size"
   ]
  },
  {
   "cell_type": "code",
   "execution_count": 10,
   "id": "2b959d66",
   "metadata": {},
   "outputs": [],
   "source": [
    "pct_2_hop  = (1.*num_bookings_2_hop) \\\n",
    "           / num_bookings_tot"
   ]
  },
  {
   "cell_type": "markdown",
   "id": "79963564",
   "metadata": {},
   "source": [
    "Now, compute the probability of the two Rainbow agents to pick a specific action leading to the same zones:"
   ]
  },
  {
   "cell_type": "code",
   "execution_count": 11,
   "id": "0593fbb3",
   "metadata": {},
   "outputs": [],
   "source": [
    "pct_specific_a = 1./9 # 9 possibile actions"
   ]
  },
  {
   "cell_type": "code",
   "execution_count": 12,
   "id": "07a45654",
   "metadata": {},
   "outputs": [],
   "source": [
    "# If along the 2 diagonals\n",
    "pct_same_a_diag = pct_specific_a**2\n",
    "\n",
    "# If along the 2 cardinal axis\n",
    "pct_same_a_card = 3*pct_specific_a**2\n",
    "\n",
    "pct_same_a = (pct_same_a_diag\n",
    "           + pct_same_a_card) / 2"
   ]
  },
  {
   "cell_type": "code",
   "execution_count": 13,
   "id": "d16d7c79",
   "metadata": {},
   "outputs": [
    {
     "data": {
      "text/plain": [
       "0.011340111966272565"
      ]
     },
     "execution_count": 13,
     "metadata": {},
     "output_type": "execute_result"
    }
   ],
   "source": [
    "pct_B = pct_2_hop*pct_same_a\n",
    "\n",
    "pct_B"
   ]
  },
  {
   "cell_type": "markdown",
   "id": "9194726a",
   "metadata": {},
   "source": [
    "C) Find the probability of either zone suggested by the Rainbow agents being equal to the original zone of opposite type: "
   ]
  },
  {
   "cell_type": "code",
   "execution_count": 14,
   "id": "bffdf127",
   "metadata": {},
   "outputs": [],
   "source": [
    "num_bookings_1_hop = (df_bookings['euclidean_distance'] \n",
    "                      <= (2**0.5)*METADATA['b']).sum()\n",
    "\n",
    "num_bookings_tot   = df_bookings['euclidean_distance'].size"
   ]
  },
  {
   "cell_type": "code",
   "execution_count": 15,
   "id": "812edc09",
   "metadata": {},
   "outputs": [],
   "source": [
    "pct_1_hop  = (1.*num_bookings_1_hop) \\\n",
    "           / num_bookings_tot"
   ]
  },
  {
   "cell_type": "code",
   "execution_count": 16,
   "id": "4cfb9a2b",
   "metadata": {},
   "outputs": [],
   "source": [
    "pct_specific_a = 1./9 # 9 possibile actions"
   ]
  },
  {
   "cell_type": "code",
   "execution_count": 17,
   "id": "b7cce331",
   "metadata": {},
   "outputs": [
    {
     "data": {
      "text/plain": [
       "0.02783380911305872"
      ]
     },
     "execution_count": 17,
     "metadata": {},
     "output_type": "execute_result"
    }
   ],
   "source": [
    "pct_C = pct_1_hop*(2*pct_specific_a)\n",
    "\n",
    "pct_C"
   ]
  },
  {
   "cell_type": "markdown",
   "id": "8bbc73e6",
   "metadata": {},
   "source": [
    "D) Find the probability of both original zones from ODySSEUS being equal:"
   ]
  },
  {
   "cell_type": "code",
   "execution_count": 18,
   "id": "b045b99b",
   "metadata": {},
   "outputs": [],
   "source": [
    "pct_D = 0."
   ]
  },
  {
   "cell_type": "markdown",
   "id": "eb72a9ab",
   "metadata": {},
   "source": [
    "E) Find the probability of unavailable vehicles in the pick-up zone suggested by the Rainbow agents:"
   ]
  },
  {
   "cell_type": "code",
   "execution_count": 19,
   "id": "eb5a1b7c",
   "metadata": {},
   "outputs": [],
   "source": [
    "pct_E = 0."
   ]
  },
  {
   "cell_type": "markdown",
   "id": "534a7697",
   "metadata": {},
   "source": [
    "## Total number of lives optimization\n",
    "\n",
    "Find the correct number of lives setting to reach a target success probability $p_\\tau$ in high-$\\epsilon$ scenarios."
   ]
  },
  {
   "cell_type": "code",
   "execution_count": 20,
   "id": "00dd7308",
   "metadata": {},
   "outputs": [],
   "source": [
    "def get_prob_1_life(n_lives: int, pct: float,):\n",
    "    \"\"\"\n",
    "    Probability of winning the game with at least 1 life over a fixed number\n",
    "    of steps given the failure rate per step.\n",
    "    \n",
    "    Parameters\n",
    "    ----------\n",
    "    n_lives : int\n",
    "        Number of total lives per game.\n",
    "    \n",
    "    pct: float\n",
    "        Failure rate per step.\n",
    "    \"\"\"\n",
    "    pct_1_life = 0.\n",
    "    \n",
    "    for n in range(n_lives):\n",
    "        pct_1_life += binom.pmf(\n",
    "            n, METADATA['N_steps'], pct)\n",
    "        \n",
    "    return pct_1_life"
   ]
  },
  {
   "cell_type": "code",
   "execution_count": 21,
   "id": "63e83c07",
   "metadata": {},
   "outputs": [],
   "source": [
    "def get_prob_0_lives(n_lives: int, pct: float,):\n",
    "    \"\"\"\n",
    "    Probability of losing the game with no lives left over a fixed number\n",
    "    of steps given the failure rate per step.\n",
    "    \n",
    "    Parameters\n",
    "    ----------\n",
    "    n_lives : int\n",
    "        Number of total lives per game.\n",
    "    \n",
    "    pct: float\n",
    "        Failure rate per step.\n",
    "    \"\"\"\n",
    "    return 1. - get_prob_1_life(n_lives, pct)"
   ]
  },
  {
   "cell_type": "markdown",
   "id": "b0969393",
   "metadata": {},
   "source": [
    "Compute the total probability of life loss in any given step:"
   ]
  },
  {
   "cell_type": "code",
   "execution_count": 22,
   "id": "70547d8f",
   "metadata": {},
   "outputs": [],
   "source": [
    "# Strong assumption of independency\n",
    "# between events A, B, C, D and E\n",
    "pct_m1_life = pct_A + pct_B \\\n",
    "            + pct_C + pct_D \\\n",
    "            + pct_E"
   ]
  },
  {
   "cell_type": "code",
   "execution_count": 23,
   "id": "59f17b7c",
   "metadata": {},
   "outputs": [],
   "source": [
    "def compute_opt_N_lives(init_n_lives: int, pct: float,\n",
    "                        target_pct_1_life : float,\n",
    "                        max_iters : int = 100,\n",
    "                        tol : float = 0.001):\n",
    "    \"\"\"\n",
    "    Compute the optimal total number of lives `\\hat{N}_{l, \\tau}` given\n",
    "    an initial guess, the failure rate per step and the target winning probability.\n",
    "    \n",
    "    Parameters\n",
    "    ----------\n",
    "    init_n_lives : int\n",
    "        Initial number of total lives per game.\n",
    "        \n",
    "    pct : float\n",
    "        Failure rate per step.\n",
    "        \n",
    "    target_pct_1_life : float\n",
    "        Target winning probability.\n",
    "        \n",
    "    max_iters : int\n",
    "        Maximum number of iterations.\n",
    "        The default is 100.\n",
    "        \n",
    "    tol : float\n",
    "        Absolulte tolerance.\n",
    "        The default is 0.0001.\n",
    "        \n",
    "    Returns\n",
    "    -------\n",
    "    t.Optional[int]\n",
    "        Optimal number of total lives per game.\n",
    "        \n",
    "    t.Optional[float]\n",
    "        Related winning probability.\n",
    "        \n",
    "    t.Optional[float]\n",
    "        Closest winning probability to target.\n",
    "    \"\"\"\n",
    "    n_lives = init_n_lives\n",
    "    \n",
    "    best_dist_1_life = float('inf')\n",
    "    best_n_lives = None\n",
    "    \n",
    "    for i in range(max_iters):\n",
    "        prob_1_life = get_prob_1_life(n_lives, pct_m1_life)\n",
    "        dist_1_life = prob_1_life - target_pct_1_life\n",
    "        \n",
    "        abs_dist_1_life = abs(dist_1_life)\n",
    "        \n",
    "        if abs_dist_1_life <= tol:\n",
    "            return n_lives, prob_1_life, None\n",
    "\n",
    "        alpha = -100*(dist_1_life/n_lives)\n",
    "            \n",
    "        n_lives += int(alpha*METADATA['N_steps'])\n",
    "                \n",
    "        if n_lives <= 0:\n",
    "            n_lives = 1\n",
    "            \n",
    "        if abs_dist_1_life < abs(best_dist_1_life):\n",
    "            best_dist_1_life = dist_1_life\n",
    "            best_n_lives = n_lives\n",
    "            \n",
    "    return best_n_lives, None, best_dist_1_life"
   ]
  },
  {
   "cell_type": "code",
   "execution_count": 24,
   "id": "0cee3a2b",
   "metadata": {},
   "outputs": [],
   "source": [
    "target_pct_1_life = 0.33"
   ]
  },
  {
   "cell_type": "code",
   "execution_count": 25,
   "id": "c4c6df00",
   "metadata": {},
   "outputs": [],
   "source": [
    "opt_n_lives, opt_pct_1_life, best_dist_1_life = \\\n",
    "        compute_opt_N_lives(50, pct_m1_life,\n",
    "                            target_pct_1_life, 100)"
   ]
  },
  {
   "cell_type": "code",
   "execution_count": 26,
   "id": "48f16527",
   "metadata": {},
   "outputs": [
    {
     "data": {
      "text/plain": [
       "(787, None, 0.0205450683246155)"
      ]
     },
     "execution_count": 26,
     "metadata": {},
     "output_type": "execute_result"
    }
   ],
   "source": [
    "opt_n_lives, opt_pct_1_life, best_dist_1_life"
   ]
  },
  {
   "cell_type": "code",
   "execution_count": null,
   "id": "7988bbc0",
   "metadata": {},
   "outputs": [],
   "source": []
  }
 ],
 "metadata": {
  "kernelspec": {
   "display_name": "Python 3",
   "language": "python",
   "name": "python3"
  },
  "language_info": {
   "codemirror_mode": {
    "name": "ipython",
    "version": 3
   },
   "file_extension": ".py",
   "mimetype": "text/x-python",
   "name": "python",
   "nbconvert_exporter": "python",
   "pygments_lexer": "ipython3",
   "version": "3.7.5"
  }
 },
 "nbformat": 4,
 "nbformat_minor": 5
}
